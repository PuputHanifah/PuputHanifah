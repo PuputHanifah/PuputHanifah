{
  "nbformat": 4,
  "nbformat_minor": 0,
  "metadata": {
    "colab": {
      "provenance": [],
      "collapsed_sections": [],
      "authorship_tag": "ABX9TyMWKn0DBEAbJ7JsrELaX8TQ",
      "include_colab_link": true
    },
    "kernelspec": {
      "name": "python3",
      "display_name": "Python 3"
    },
    "language_info": {
      "name": "python"
    }
  },
  "cells": [
    {
      "cell_type": "markdown",
      "metadata": {
        "id": "view-in-github",
        "colab_type": "text"
      },
      "source": [
        "<a href=\"https://colab.research.google.com/github/PuputHanifah/PuputHanifah/blob/main/Latihan_2_Metode_Numerik_(Fixed_Point)_Puput_Hanifah_Nuranisa_11210940000017.ipynb\" target=\"_parent\"><img src=\"https://colab.research.google.com/assets/colab-badge.svg\" alt=\"Open In Colab\"/></a>"
      ]
    },
    {
      "cell_type": "markdown",
      "source": [
        "#**Latihan 2 Metode Numerik (Fixed-Point)**\n",
        "\n",
        "**Nama : Puput Hanifah Nuranisa**\n",
        "\n",
        "**NIM : 11210940000017**"
      ],
      "metadata": {
        "id": "u6Hnes41lhzQ"
      }
    },
    {
      "cell_type": "code",
      "execution_count": null,
      "metadata": {
        "id": "CztLBbQ2lb-W"
      },
      "outputs": [],
      "source": []
    }
  ]
}