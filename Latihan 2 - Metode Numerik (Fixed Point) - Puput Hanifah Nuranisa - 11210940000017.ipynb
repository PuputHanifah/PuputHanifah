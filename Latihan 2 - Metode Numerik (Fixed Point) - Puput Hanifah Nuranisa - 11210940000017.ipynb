{
  "nbformat": 4,
  "nbformat_minor": 0,
  "metadata": {
    "colab": {
      "provenance": [],
      "collapsed_sections": [],
      "include_colab_link": true
    },
    "kernelspec": {
      "name": "python3",
      "display_name": "Python 3"
    },
    "language_info": {
      "name": "python"
    }
  },
  "cells": [
    {
      "cell_type": "markdown",
      "metadata": {
        "id": "view-in-github",
        "colab_type": "text"
      },
      "source": [
        "<a href=\"https://colab.research.google.com/github/PuputHanifah/PuputHanifah/blob/main/Latihan%202%20-%20Metode%20Numerik%20(Fixed%20Point)%20-%20Puput%20Hanifah%20Nuranisa%20-%2011210940000017.ipynb\" target=\"_parent\"><img src=\"https://colab.research.google.com/assets/colab-badge.svg\" alt=\"Open In Colab\"/></a>"
      ]
    },
    {
      "cell_type": "markdown",
      "source": [
        "**Latihan 2 Metode Numerik (Fixed-Point)**\n",
        "\n",
        "**Nama : Syarifah Syila Alkadrie**\n",
        "\n",
        "**NIM : 11210940000019**\n"
      ],
      "metadata": {
        "id": "y76MevyzXMUJ"
      }
    },
    {
      "cell_type": "markdown",
      "source": [
        "#Soal A"
      ],
      "metadata": {
        "id": "-8z48O1vFtsZ"
      }
    },
    {
      "cell_type": "code",
      "execution_count": null,
      "metadata": {
        "colab": {
          "base_uri": "https://localhost:8080/"
        },
        "id": "DuCkX3YYEjt3",
        "outputId": "0fb62707-cc2c-41fe-c78b-a8950fa176fc"
      },
      "outputs": [
        {
          "output_type": "stream",
          "name": "stdout",
          "text": [
            "Tebakan Awal (x0): 1.5\n",
            "Toleransi Error: 0.00001\n",
            "Iterasi Maksimal: 5\n",
            "\n",
            "Berikut adalah Iterasi Fixed Point dari Persamaan diatas:\n",
            "Iteration-1, x1 = -0.875000 dan f(x1) = -7.607422\n",
            "Iteration-2, x1 = 6.732422 dan f(x1) = 476.452434\n",
            "Iteration-3, x1 = -469.720012 dan f(x1) = -102755024.907397\n",
            "Iteration-4, x1 = 102754555.187385 dan f(x1) = 1084933870531746486812672.000000\n",
            "Iteration-5, x1 = -1084933870531746352594944.000000 dan f(x1) = -1277055591444378074254579861314550183250535909418315265493330570988486656.000000\n",
            "\n",
            "Iterasi Fixed Point diatas bersifat Divergen.\n"
          ]
        }
      ],
      "source": [
        "import math\n",
        "\n",
        "def f(x):\n",
        "  a1 = x*x*x + 4*x*x -10\n",
        "  return a1\n",
        "\n",
        "def g(x):\n",
        "  a2 = x- x*x*x - 4*x*x + 10\n",
        "  return a2\n",
        "\n",
        "def IterasiFixedPoint(x0, epsilon, N):\n",
        "  print('\\nBerikut adalah Iterasi Fixed Point dari Persamaan diatas:')\n",
        "  langkah = 1\n",
        "  flag = 1\n",
        "  kondisi = True\n",
        "  while kondisi:\n",
        "    x1 = g(x0)\n",
        "    print('Iteration-%d, x1 = %0.6f dan f(x1) = %0.6f' % (langkah, x1, f(x1)))\n",
        "    x0 = x1\n",
        "\n",
        "    langkah = langkah + 1\n",
        "    if langkah > N:\n",
        "      flag = 0\n",
        "      break\n",
        "\n",
        "    kondisi = abs(f(x1)) > epsilon\n",
        "\n",
        "  if flag == 1:\n",
        "    print('\\nSolusi atau nilai akar yang didapatkan adalah: %0.8f' % x1)\n",
        "  else:\n",
        "    print('\\nIterasi Fixed Point diatas bersifat Divergen.')\n",
        "\n",
        "x0 = float(input('Tebakan Awal (x0): '))\n",
        "epsilon = float(input('Toleransi Error: '))\n",
        "N = int(input('Iterasi Maksimal: '))\n",
        "\n",
        "IterasiFixedPoint(x0, epsilon, N)\n",
        "                  "
      ]
    },
    {
      "cell_type": "markdown",
      "source": [
        "**Penjelasan :**\n",
        "1.   Persamaan g(x) diatas didapat berdasarkan pendefinisian fungsi g yang dapat dituliskan, yaitu x = g(x) = x -\n",
        "f(x), dimana f(x) = x^3 + 4x^2 - 10 = 0, sehingga g(x) = x - x^3 - 4x^2 + 10.\n",
        "\n",
        "2.   Berdasarkan hasil iterasi fixed point diatas, dapat disimpulkan bahwa untuk persamaan g(x) diatas pada\n",
        "iterasi ke-4 dan seterusnya menghasilnya nilai yang mendekati infinity (tak hingga) sehingga mengakibatkan\n",
        "iterasi fixed point nya menjadi divergen.\n"
      ],
      "metadata": {
        "id": "mE-1dM77QFK4"
      }
    },
    {
      "cell_type": "markdown",
      "source": [
        "#Soal B\n"
      ],
      "metadata": {
        "id": "QiC5zq5wP7Tg"
      }
    },
    {
      "cell_type": "code",
      "source": [
        "import math\n",
        "import numpy as np\n",
        "\n",
        "def f(x):\n",
        "  b1 = x*x*x + 4*x*x -10\n",
        "  return b1\n",
        "\n",
        "def g(x):\n",
        "  b2 = np.sqrt((10/x)-4*x)\n",
        "  return b2\n",
        "\n",
        "def IterasiFixedPoint(x0, epsilon, N):\n",
        "  print('\\nBerikut adalah Iterasi Fixed Point dari Persamaan diatas:')\n",
        "  langkah = 1\n",
        "  flag = 1\n",
        "  kondisi = True\n",
        "  while kondisi:\n",
        "    x1 = g(x0)\n",
        "    print('Iteration-%d, x1 = %0.6f dan f(x1) = %0.6f' % (langkah, x1, f(x1)))\n",
        "    x0 = x1\n",
        "\n",
        "    langkah = langkah + 1\n",
        "\n",
        "    if langkah > N:\n",
        "      flag = 0\n",
        "      break\n",
        "\n",
        "    kondisi = abs(f(x1)) > epsilon\n",
        "\n",
        "  if flag == 1:\n",
        "    print('\\nSolusi atau nilai akar yang didapatkan adalah: %0.8f' % x1)\n",
        "  else:\n",
        "    print('\\nIterasi Fixed Point diatas bersifat Divergen.')\n",
        "\n",
        "x0 = float(input('Tebakan Awal (x0): '))\n",
        "epsilon = float(input('Toleransi Error: '))\n",
        "N = int(input('Iterasi Maksimal: '))\n",
        "\n",
        "IterasiFixedPoint(x0, epsilon, N)\n"
      ],
      "metadata": {
        "colab": {
          "base_uri": "https://localhost:8080/"
        },
        "id": "ZVmXmH4kP-2a",
        "outputId": "02ce937b-3ca3-4ef2-b979-ca66926b3043"
      },
      "execution_count": null,
      "outputs": [
        {
          "output_type": "stream",
          "name": "stdout",
          "text": [
            "Tebakan Awal (x0): 1.5\n",
            "Toleransi Error: 0.00001\n",
            "Iterasi Maksimal: 5\n",
            "\n",
            "Berikut adalah Iterasi Fixed Point dari Persamaan diatas:\n",
            "Iteration-1, x1 = 0.816497 dan f(x1) = -6.789002\n",
            "Iteration-2, x1 = 2.996909 dan f(x1) = 52.842473\n",
            "Iteration-3, x1 = nan dan f(x1) = nan\n",
            "\n",
            "Solusi atau nilai akar yang didapatkan adalah: nan\n"
          ]
        },
        {
          "output_type": "stream",
          "name": "stderr",
          "text": [
            "/usr/local/lib/python3.7/dist-packages/ipykernel_launcher.py:9: RuntimeWarning: invalid value encountered in sqrt\n",
            "  if __name__ == '__main__':\n"
          ]
        }
      ]
    },
    {
      "cell_type": "markdown",
      "source": [
        "**Penjelasan :**\n",
        "\n",
        "\n",
        "1.   Persamaan g(x) diatas didapatkan dari hasil manipulasi aljabar sederhana terhadap f(x) = x^3 + 4x^2 - 10 = 0,\n",
        "yaitu:\n",
        "\n",
        "  4x^2 = 10 - x^3\n",
        "\n",
        "  x^3 = 4x^2 - 10\n",
        "\n",
        "  x^2 = 4x - (10/x)\n",
        "\n",
        "  x = +- [4x - (10/x)]^(0.5)\n",
        "\n",
        "  Dalam kasus ini diambil nilai x yang negatif, yaitu: x = [(10/x) - 4x]^(1/2) = g(x)\n",
        "\n",
        "2.   Berdasarkan hasil iterasi diatas, dapat disimpulkan bahwa untuk persamaan g(x) diatas berhenti pada iterasi\n",
        "ke-3 karena pada iterasi ke-3 menghasilkan nilai yang imajiner (i) sehingga mengakibatkan iterasi fixed point\n",
        "diatas menjadi divergen.\n",
        "\n",
        "\n"
      ],
      "metadata": {
        "id": "yHtThuemR2DV"
      }
    },
    {
      "cell_type": "markdown",
      "source": [
        "#Soal C"
      ],
      "metadata": {
        "id": "5SlRKzagSUGS"
      }
    },
    {
      "cell_type": "code",
      "source": [
        "import math\n",
        "\n",
        "def f(x):\n",
        "  c1 = x*x*x + 4*x*x -10\n",
        "  return c1\n",
        "\n",
        "def g(x):\n",
        "  c2 = (0.5)*(10-x**3)**(0.5)\n",
        "  return c2\n",
        "\n",
        "def IterasiFixedPoint(x0, epsilon, N):\n",
        "  print('\\nBerikut adalah Iterasi Fixed Point dari Persamaan diatas:')\n",
        "  langkah = 1\n",
        "  flag = 1\n",
        "  kondisi = True\n",
        "  while kondisi:\n",
        "    x1 = g(x0)\n",
        "    print('Iteration-%d, x1 = %0.6f dan f(x1) = %0.6f' % (langkah, x1, f(x1)))\n",
        "    x0 = x1\n",
        "\n",
        "    langkah = langkah + 1\n",
        "\n",
        "    if langkah > N:\n",
        "      flag = 0\n",
        "      break\n",
        "\n",
        "    kondisi = abs(f(x1)) > epsilon\n",
        "\n",
        "  if flag == 1:\n",
        "    print('\\nSolusi atau nilai akar yang didapatkan adalah: %0.8f' % x1)\n",
        "  else:\n",
        "    print('\\nIterasi Fixed Point diatas bersifat Divergen.')\n",
        "\n",
        "x0 = float(input('Tebakan Awal (x0): '))\n",
        "epsilon = float(input('Toleransi Error: '))\n",
        "N = int(input('Iterasi Maksimal: '))\n",
        "\n",
        "IterasiFixedPoint(x0, epsilon, N)"
      ],
      "metadata": {
        "colab": {
          "base_uri": "https://localhost:8080/"
        },
        "id": "aa1xV-ehSVyo",
        "outputId": "73d47771-8a75-4bae-b1e0-b863f591646d"
      },
      "execution_count": null,
      "outputs": [
        {
          "output_type": "stream",
          "name": "stdout",
          "text": [
            "Tebakan Awal (x0): 1.5\n",
            "Toleransi Error: 0.00001\n",
            "Iterasi Maksimal: 25\n",
            "\n",
            "Berikut adalah Iterasi Fixed Point dari Persamaan diatas:\n",
            "Iteration-1, x1 = 1.286954 dan f(x1) = -1.243483\n",
            "Iteration-2, x1 = 1.402541 dan f(x1) = 0.627450\n",
            "Iteration-3, x1 = 1.345458 dan f(x1) = -0.323340\n",
            "Iteration-4, x1 = 1.375170 dan f(x1) = 0.164948\n",
            "Iteration-5, x1 = 1.360094 dan f(x1) = -0.084596\n",
            "Iteration-6, x1 = 1.367847 dan f(x1) = 0.043270\n",
            "Iteration-7, x1 = 1.363887 dan f(x1) = -0.022163\n",
            "Iteration-8, x1 = 1.365917 dan f(x1) = 0.011344\n",
            "Iteration-9, x1 = 1.364878 dan f(x1) = -0.005808\n",
            "Iteration-10, x1 = 1.365410 dan f(x1) = 0.002973\n",
            "Iteration-11, x1 = 1.365138 dan f(x1) = -0.001522\n",
            "Iteration-12, x1 = 1.365277 dan f(x1) = 0.000779\n",
            "Iteration-13, x1 = 1.365206 dan f(x1) = -0.000399\n",
            "Iteration-14, x1 = 1.365242 dan f(x1) = 0.000204\n",
            "Iteration-15, x1 = 1.365224 dan f(x1) = -0.000105\n",
            "Iteration-16, x1 = 1.365233 dan f(x1) = 0.000054\n",
            "Iteration-17, x1 = 1.365228 dan f(x1) = -0.000027\n",
            "Iteration-18, x1 = 1.365231 dan f(x1) = 0.000014\n",
            "Iteration-19, x1 = 1.365230 dan f(x1) = -0.000007\n",
            "\n",
            "Solusi atau nilai akar yang didapatkan adalah: 1.36522958\n"
          ]
        }
      ]
    },
    {
      "cell_type": "markdown",
      "source": [
        "**Penejelasan :**\n",
        "\n",
        "\n",
        "1.   Persamaan g(x) diatas didapatkan dari hasil manipulasi aljabar sederhana terhadap f(x) = x^3 + 4x^2 - 10 = 0,\n",
        "yaitu:\n",
        "\n",
        "  4x^2 = 10 - x^3\n",
        "\n",
        "  x^2 = (1/4).(10 - x^3)\n",
        "\n",
        "  x = +-(1/2).(10 - x^3)\n",
        "\n",
        "  Dalam kasus ini diambil nilai x yang positif, yaitu: x = (1/2) (10 - x^3) = g(x)\n",
        "2.   Berdasarkan hasil iterasi diatas, dapat disimpulkan bahwa untuk persamaan g(x) diatas dikatakan konvergen\n",
        "karena menghasilkan solusi akar dari persamaan f(x), yaitu 1.36522958.\n",
        "\n"
      ],
      "metadata": {
        "id": "TuHYY2pkTRg7"
      }
    },
    {
      "cell_type": "markdown",
      "source": [
        "#Soal D"
      ],
      "metadata": {
        "id": "ATJ3WhQ_Tnhf"
      }
    },
    {
      "cell_type": "code",
      "source": [
        "import math\n",
        "\n",
        "def f(x):\n",
        "  d1 = x*x*x + 4*x*x -10\n",
        "  return d1\n",
        "\n",
        "def g(x):\n",
        "  d2 = (10/(4+x))**(0.5)\n",
        "  return d2\n",
        "\n",
        "def IterasiFixedPoint(x0, epsilon, N):\n",
        "  print('\\nBerikut adalah Iterasi Fixed Point dari Persamaan diatas:')\n",
        "  langkah = 1\n",
        "  flag = 1\n",
        "  kondisi = True\n",
        "  while kondisi:\n",
        "    x1 = g(x0)\n",
        "    print('Iteration-%d, x1 = %0.6f dan f(x1) = %0.6f' % (langkah, x1, f(x1)))\n",
        "    x0 = x1\n",
        "\n",
        "    langkah = langkah + 1\n",
        "\n",
        "    if langkah > N:\n",
        "      flag = 0\n",
        "      break\n",
        "\n",
        "    kondisi = abs(f(x1)) > epsilon\n",
        "\n",
        "  if flag == 1:\n",
        "    print('\\nSolusi atau nilai akar yang didapatkan adalah: %0.8f' % x1)\n",
        "  else:\n",
        "    print('\\nIterasi Fixed Point diatas bersifat Divergen.')\n",
        "\n",
        "x0 = float(input('Tebakan Awal (x0): '))\n",
        "epsilon = float(input('Toleransi Error: '))\n",
        "N = int(input('Iterasi Maksimal: '))\n",
        "\n",
        "IterasiFixedPoint(x0, epsilon, N)"
      ],
      "metadata": {
        "colab": {
          "base_uri": "https://localhost:8080/"
        },
        "id": "1EdYt7o6TqII",
        "outputId": "c13af51a-6cb1-409f-a439-80b94e79d67a"
      },
      "execution_count": null,
      "outputs": [
        {
          "output_type": "stream",
          "name": "stdout",
          "text": [
            "Tebakan Awal (x0): 1.5\n",
            "Toleransi Error: 0.00001\n",
            "Iterasi Maksimal: 15\n",
            "\n",
            "Berikut adalah Iterasi Fixed Point dari Persamaan diatas:\n",
            "Iteration-1, x1 = 1.348400 dan f(x1) = -0.275637\n",
            "Iteration-2, x1 = 1.367376 dan f(x1) = 0.035481\n",
            "Iteration-3, x1 = 1.364957 dan f(x1) = -0.004508\n",
            "Iteration-4, x1 = 1.365265 dan f(x1) = 0.000574\n",
            "Iteration-5, x1 = 1.365226 dan f(x1) = -0.000073\n",
            "Iteration-6, x1 = 1.365231 dan f(x1) = 0.000009\n",
            "\n",
            "Solusi atau nilai akar yang didapatkan adalah: 1.36523058\n"
          ]
        }
      ]
    },
    {
      "cell_type": "markdown",
      "source": [
        "**Penjelasan :**\n",
        "\n",
        "\n",
        "1.   Persamaan g(x) diatas didapatkan dari hasil manipulasi aljabar sederhana terhadap f(x) = x^3 + 4x^2 - 10 = 0,\n",
        "yaitu:\n",
        "\n",
        "  4x^2 = 10 - x^3\n",
        "\n",
        "  4x^2 + x^3 = 10\n",
        "\n",
        "  x^2 (4 + x) = 10\n",
        "\n",
        "  x = +-[10/(4 + x)]^(1/2)\n",
        "\n",
        "  Dalam kasus ini diambil nilai x yang positif, yaitu: x = [10/(4 + x)]^(1/2) = g(x\n",
        "2.   Berdasarkan hasil iterasi diatas, dapat disimpulkan bahwa untuk persamaan g(x) diatas dikatakan konvergen\n",
        "karena menghasilkan solusi akar dari persamaan f(x), yaitu 1.36523058.\n",
        "\n"
      ],
      "metadata": {
        "id": "i7AEbYNvVDmz"
      }
    },
    {
      "cell_type": "markdown",
      "source": [
        "#Soal E"
      ],
      "metadata": {
        "id": "4ROtOsvaVU7y"
      }
    },
    {
      "cell_type": "code",
      "source": [
        "import math\n",
        "\n",
        "def f(x):\n",
        "  e1 = x*x*x + 4*x*x -10\n",
        "  return e1\n",
        "\n",
        "def g(x):\n",
        "  e2 = x-((x**3+4*x**2-10)/(3*x**2+8*x))\n",
        "  return e2\n",
        "\n",
        "def IterasiFixedPoint(x0, epsilon, N):\n",
        "  print('\\nBerikut adalah Iterasi Fixed Point dari Persamaan diatas:')\n",
        "  langkah = 1\n",
        "  flag = 1\n",
        "  kondisi = True\n",
        "  while kondisi:\n",
        "    x1 = g(x0)\n",
        "    print('Iteration-%d, x1 = %0.6f dan f(x1) = %0.6f' % (langkah, x1, f(x1)))\n",
        "    x0 = x1\n",
        "\n",
        "    langkah = langkah + 1\n",
        "\n",
        "    if langkah > N:\n",
        "      flag = 0\n",
        "      break\n",
        "\n",
        "    kondisi = abs(f(x1)) > epsilon\n",
        "\n",
        "  if flag == 1:\n",
        "    print('\\nSolusi atau nilai akar yang didapatkan adalah: %0.8f' % x1)\n",
        "  else:\n",
        "    print('\\nIterasi Fixed Point diatas bersifat Divergen.')\n",
        "\n",
        "x0 = float(input('Tebakan Awal (x0): '))\n",
        "epsilon = float(input('Toleransi Error: '))\n",
        "N = int(input('Iterasi Maksimal: '))\n",
        "\n",
        "IterasiFixedPoint(x0, epsilon, N)\n"
      ],
      "metadata": {
        "colab": {
          "base_uri": "https://localhost:8080/"
        },
        "id": "brZfvtGQVW3L",
        "outputId": "2bcb730c-6205-4194-cf85-9147eb5c672a"
      },
      "execution_count": null,
      "outputs": [
        {
          "output_type": "stream",
          "name": "stdout",
          "text": [
            "Tebakan Awal (x0): 1.5\n",
            "Toleransi Error: 0.00001\n",
            "Iterasi Maksimal: 5\n",
            "\n",
            "Berikut adalah Iterasi Fixed Point dari Persamaan diatas:\n",
            "Iteration-1, x1 = 1.373333 dan f(x1) = 0.134345\n",
            "Iteration-2, x1 = 1.365262 dan f(x1) = 0.000528\n",
            "Iteration-3, x1 = 1.365230 dan f(x1) = 0.000000\n",
            "\n",
            "Solusi atau nilai akar yang didapatkan adalah: 1.36523001\n"
          ]
        }
      ]
    },
    {
      "cell_type": "markdown",
      "source": [
        "**Penjelasan :**\n",
        "\n",
        "\n",
        "1.   Persamaan g(x) diatas didapatkan berdasarkan pendefinisian fungsi g dan dari hasil manipulasi aljabar yaitu\n",
        "turunan dari f(x) yang dapat dituliskan: x = x - [f(x)/f'(x)] = x - [(x^3 + 4x^2 - 10) / (3x^2 + 8x)] = g(x\n",
        "2.   Berdasarkan hasil iterasi diatas, dapat disimpulkan bahwa untuk persamaan g(x) diatas dikatakan konvergen\n",
        "karena manghasilkan solusi akar dari persamaan f(x), yaitu 1.36523001.\n",
        "\n"
      ],
      "metadata": {
        "id": "e-KZYNhWWD-3"
      }
    },
    {
      "cell_type": "markdown",
      "source": [
        "#**Kesimpulan**\n",
        "Dari kelima jenis persamaan g(x) diatas, terdapat beberapa hal yang\n",
        "dapat disimpulkan, yaitu:\n",
        "\n",
        "\n",
        "1. Iterasi fixed point dari persamaan g(x) = x - x^3 - 4x^2 + 10 dan g(x) = [(10/x) - 4x]^(1/2) menghasilkan iterasi\n",
        "fixed point yang divergen.\n",
        "2. Iterasi fixed point dari persamaan g(x) = (1/2) (10 - x^3), g(x) = [10 / (4 + x)]^(1/2), dan g(x) = x - [(x^3 + 4x^2 - 10)\n",
        "/ (3x^2 + 8x)] menghasilkan iterasi fixed point yang konvergen karena menghasilkan solusi akar dari persamaan\n",
        "f(x), yaitu 1.36523001. Dari ketiga persamaan g(x) tersebut, perbedaan hanya terletak pada jumlah iterasi yang\n",
        "dibutuhkan untuk mendapatkan solusi akar dari persamaan f(x).\n",
        "\n"
      ],
      "metadata": {
        "id": "XH4cKr43WO3l"
      }
    }
  ]
}