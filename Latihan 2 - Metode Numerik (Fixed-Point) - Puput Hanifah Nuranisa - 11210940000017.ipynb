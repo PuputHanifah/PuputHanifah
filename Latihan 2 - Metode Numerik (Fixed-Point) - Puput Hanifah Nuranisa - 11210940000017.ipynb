{
  "nbformat": 4,
  "nbformat_minor": 0,
  "metadata": {
    "colab": {
      "provenance": [],
      "collapsed_sections": [],
      "authorship_tag": "ABX9TyMd4/lkPZrUstPHcULizRvC",
      "include_colab_link": true
    },
    "kernelspec": {
      "name": "python3",
      "display_name": "Python 3"
    },
    "language_info": {
      "name": "python"
    }
  },
  "cells": [
    {
      "cell_type": "markdown",
      "metadata": {
        "id": "view-in-github",
        "colab_type": "text"
      },
      "source": [
        "<a href=\"https://colab.research.google.com/github/PuputHanifah/PuputHanifah/blob/main/Latihan%202%20-%20Metode%20Numerik%20(Fixed-Point)%20-%20Puput%20Hanifah%20Nuranisa%20-%2011210940000017.ipynb\" target=\"_parent\"><img src=\"https://colab.research.google.com/assets/colab-badge.svg\" alt=\"Open In Colab\"/></a>"
      ]
    },
    {
      "cell_type": "markdown",
      "source": [
        "#**Latihan 2 Metode Numerik (Fixed-Point)**\n",
        "\n",
        "**Nama : Puput Hanifah Nuranisa**\n",
        "\n",
        "**NIM : 11210940000017**"
      ],
      "metadata": {
        "id": "u6Hnes41lhzQ"
      }
    },
    {
      "cell_type": "code",
      "source": [
        "import math as mt\n",
        "import numpy as np"
      ],
      "metadata": {
        "id": "sOZEX4M8ng24"
      },
      "execution_count": 1,
      "outputs": []
    },
    {
      "cell_type": "code",
      "source": [
        "def f(x) :\n",
        "  fx = x*x*x + 4*x*x - 10\n",
        "  return fx"
      ],
      "metadata": {
        "id": "rp9jvX1hrKpX"
      },
      "execution_count": 2,
      "outputs": []
    },
    {
      "cell_type": "code",
      "source": [
        "def IterasiFixedPoint (x0, epsilon, N) :\n",
        "  print('\\nDibawah ini adalah Iterasi Fixed Point dari Persamaan diatas adalah :')\n",
        "  langkah = 1\n",
        "  flag = 1\n",
        "  kondisi = True\n",
        "  while kondisi :\n",
        "    x1 = g(x0)\n",
        "    print('Iteration-%d, x1 = %0.6f dan f(x1) = %0.6f' % (langkah, x1, f(x1)))\n",
        "    x0 = x1\n",
        "\n",
        "    langkah = langkah + 1\n",
        "    if langkah > N :\n",
        "      flag = 0\n",
        "      break\n",
        "\n",
        "    kondisi = abs(f(x1)) > epsilon\n",
        "\n",
        "  if flag == 1 :\n",
        "    print('\\nNilai akar atau solusi uang didapat adalah : %0.8f' % x1)\n",
        "  else :\n",
        "    print('\\nIterasi Fixed Point diatas bersifat Divergen')"
      ],
      "metadata": {
        "id": "iG0O4WH1wgCV"
      },
      "execution_count": 15,
      "outputs": []
    },
    {
      "cell_type": "markdown",
      "source": [
        "#**Soal a**"
      ],
      "metadata": {
        "id": "eBc69Y1wnybL"
      }
    },
    {
      "cell_type": "code",
      "source": [
        "def g(x) :\n",
        "  g1x = x - x*x*x - 4*x*x + 10\n",
        "  return g1x\n",
        "\n",
        "x0 = float(input('Tebakan Awal (x0) : '))\n",
        "epsilon = float(input('Toleransi Error : '))\n",
        "N = int(input('Iterasi Maksimal: '))\n",
        "\n",
        "IterasiFixedPoint(x0, epsilon, N)"
      ],
      "metadata": {
        "colab": {
          "base_uri": "https://localhost:8080/"
        },
        "id": "ChoQF8EJnxoC",
        "outputId": "82a24b89-36c7-4959-e844-26c90c3005fa"
      },
      "execution_count": 28,
      "outputs": [
        {
          "output_type": "stream",
          "name": "stdout",
          "text": [
            "Tebakan Awal (x0) : 1.5\n",
            "Toleransi Error : 0.00001\n",
            "Iterasi Maksimal: 5\n",
            "\n",
            "Dibawah ini adalah Iterasi Fixed Point dari Persamaan diatas adalah :\n",
            "Iteration-1, x1 = -0.875000 dan f(x1) = -7.607422\n",
            "Iteration-2, x1 = 6.732422 dan f(x1) = 476.452434\n",
            "Iteration-3, x1 = -469.720012 dan f(x1) = -102755024.907397\n",
            "Iteration-4, x1 = 102754555.187385 dan f(x1) = 1084933870531746486812672.000000\n",
            "Iteration-5, x1 = -1084933870531746352594944.000000 dan f(x1) = -1277055591444378074254579861314550183250535909418315265493330570988486656.000000\n",
            "\n",
            "Iterasi Fixed Point diatas bersifat Divergen\n"
          ]
        }
      ]
    },
    {
      "cell_type": "markdown",
      "source": [
        "**Penjelasan :**\n",
        "1.   Persamaan g1(x) didapat berdasarkan pendefinisian fungsi g yang dapat dituliskan, yaitu x = g1(x) = x -\n",
        "f(x), diketahui f(x) = x^3 + 4x^2 - 10 = 0, sehingga g1(x) = x - x^3 - 4x^2 + 10.\n",
        "\n",
        "2.   Berdasarkan hasil iterasi fixed point diatas, dapat disimpulkan bahwa untuk persamaan g1(x) diatas pada\n",
        "iterasi ke-4 dan seterusnya menghasilkan nilai yang mendekati tak hingga sehingga mengakibatkan iterasi fixed point nya menjadi divergen."
      ],
      "metadata": {
        "id": "2SPoRZkEul9-"
      }
    },
    {
      "cell_type": "markdown",
      "source": [
        "#**Soal b**"
      ],
      "metadata": {
        "id": "eyb0K-RFvVlF"
      }
    },
    {
      "cell_type": "code",
      "source": [
        "def g(x) :\n",
        "  g2x = np.sqrt((10/x) - 4*x)\n",
        "  return g2x\n",
        "\n",
        "x0 = float(input('Tebakan Awal (x0) : '))\n",
        "epsilon = float(input('Toleransi Error : '))\n",
        "N = int(input('Iterasi Maksimal: '))\n",
        "\n",
        "IterasiFixedPoint(x0, epsilon, N)"
      ],
      "metadata": {
        "colab": {
          "base_uri": "https://localhost:8080/"
        },
        "id": "GRVa3JlivPf2",
        "outputId": "58f1f2d1-5717-4109-f3cc-2f345b144527"
      },
      "execution_count": 31,
      "outputs": [
        {
          "output_type": "stream",
          "name": "stdout",
          "text": [
            "Tebakan Awal (x0) : 1.5\n",
            "Toleransi Error : 0.00001\n",
            "Iterasi Maksimal: 5\n",
            "\n",
            "Dibawah ini adalah Iterasi Fixed Point dari Persamaan diatas adalah :\n",
            "Iteration-1, x1 = 0.816497 dan f(x1) = -6.789002\n",
            "Iteration-2, x1 = 2.996909 dan f(x1) = 52.842473\n",
            "Iteration-3, x1 = nan dan f(x1) = nan\n",
            "\n",
            "Nilai akar atau solusi uang didapat adalah : nan\n"
          ]
        },
        {
          "output_type": "stream",
          "name": "stderr",
          "text": [
            "/usr/local/lib/python3.7/dist-packages/ipykernel_launcher.py:2: RuntimeWarning: invalid value encountered in sqrt\n",
            "  \n"
          ]
        }
      ]
    },
    {
      "cell_type": "markdown",
      "source": [
        "**Penjelasan :**\n",
        "\n",
        "\n",
        "1.   Persamaan g2(x) didapatkan dari hasil manipulasi aljabar sederhana terhadap f(x) = x^3 + 4x^2 - 10 = 0,\n",
        "yaitu:\n",
        "\n",
        "  4x^2 = 10 - x^3\n",
        "\n",
        "  x^3 = 4x^2 - 10\n",
        "\n",
        "  x^2 = 4x - (10/x)\n",
        "\n",
        "  x = +- [4x - (10/x)]^(1/2)\n",
        "\n",
        "  Dalam kasus ini diambil nilai x yang negatif, yaitu: x = [(10/x) - 4x]^(1/2) = g2(x)\n",
        "\n",
        "2.   Berdasarkan hasil iterasi diatas, dapat disimpulkan bahwa untuk persamaan g2(x) diatas berhenti pada iterasi\n",
        "ke-3, karena pada iterasi ke-3 menghasilkan nilai yang imajiner (i) sehingga mengakibatkan iterasi fixed point\n",
        "diatas menjadi divergen."
      ],
      "metadata": {
        "id": "laVbh2pjxMS8"
      }
    },
    {
      "cell_type": "markdown",
      "source": [
        "#**Soal c**\n",
        " "
      ],
      "metadata": {
        "id": "ZFvfwthtzEFm"
      }
    },
    {
      "cell_type": "code",
      "source": [
        "def g(x) :\n",
        "  g3x = (0.5)*(10 - x**3)**(0.5)\n",
        "  return g3x\n",
        "\n",
        "x0 = float(input('Tebakan Awal (x0) : '))\n",
        "epsilon = float(input('Toleransi Error : '))\n",
        "N = int(input('Iterasi Maksimal: '))\n",
        "\n",
        "IterasiFixedPoint(x0, epsilon, N)"
      ],
      "metadata": {
        "colab": {
          "base_uri": "https://localhost:8080/"
        },
        "id": "MiQfj3FWxGSW",
        "outputId": "ccf6379e-6d9b-4ab1-d8b1-c974ae4efe87"
      },
      "execution_count": 23,
      "outputs": [
        {
          "output_type": "stream",
          "name": "stdout",
          "text": [
            "Tebakan Awal (x0) : 1.5\n",
            "Toleransi Error : 0.00001\n",
            "Iterasi Maksimal: 25\n",
            "\n",
            "Dibawah ini adalah Iterasi Fixed Point dari Persamaan diatas adalah :\n",
            "Iteration-1, x1 = 1.286954 dan f(x1) = -1.243483\n",
            "Iteration-2, x1 = 1.402541 dan f(x1) = 0.627450\n",
            "Iteration-3, x1 = 1.345458 dan f(x1) = -0.323340\n",
            "Iteration-4, x1 = 1.375170 dan f(x1) = 0.164948\n",
            "Iteration-5, x1 = 1.360094 dan f(x1) = -0.084596\n",
            "Iteration-6, x1 = 1.367847 dan f(x1) = 0.043270\n",
            "Iteration-7, x1 = 1.363887 dan f(x1) = -0.022163\n",
            "Iteration-8, x1 = 1.365917 dan f(x1) = 0.011344\n",
            "Iteration-9, x1 = 1.364878 dan f(x1) = -0.005808\n",
            "Iteration-10, x1 = 1.365410 dan f(x1) = 0.002973\n",
            "Iteration-11, x1 = 1.365138 dan f(x1) = -0.001522\n",
            "Iteration-12, x1 = 1.365277 dan f(x1) = 0.000779\n",
            "Iteration-13, x1 = 1.365206 dan f(x1) = -0.000399\n",
            "Iteration-14, x1 = 1.365242 dan f(x1) = 0.000204\n",
            "Iteration-15, x1 = 1.365224 dan f(x1) = -0.000105\n",
            "Iteration-16, x1 = 1.365233 dan f(x1) = 0.000054\n",
            "Iteration-17, x1 = 1.365228 dan f(x1) = -0.000027\n",
            "Iteration-18, x1 = 1.365231 dan f(x1) = 0.000014\n",
            "Iteration-19, x1 = 1.365230 dan f(x1) = -0.000007\n",
            "\n",
            "Nilai akar atau solusi uang didapat adalah : 1.36522958\n"
          ]
        }
      ]
    },
    {
      "cell_type": "code",
      "source": [],
      "metadata": {
        "id": "FByuOv9F4BD0"
      },
      "execution_count": null,
      "outputs": []
    },
    {
      "cell_type": "markdown",
      "source": [
        "**Penejelasan :**\n",
        "\n",
        "\n",
        "1.   Persamaan g3(x) didapatkan dari hasil manipulasi aljabar sederhana terhadap f(x) = x^3 + 4x^2 - 10 = 0,\n",
        "yaitu:\n",
        "\n",
        "  4x^2 = 10 - x^3\n",
        "\n",
        "  x^2 = (1/4).(10 - x^3)\n",
        "\n",
        "  x = +-(1/2).(10 - x^3)^1/2\n",
        "\n",
        "  Dalam kasus ini diambil nilai x yang positif, yaitu: x = (1/2).(10 - x^3)^1/2 = g3(x)\n",
        "2.   Berdasarkan hasil iterasi diatas, dapat disimpulkan bahwa untuk persamaan g3(x) diatas dikatakan konvergen\n",
        "karena menghasilkan solusi akar dari persamaan f(x), yaitu 1.36522958.\n",
        "\n"
      ],
      "metadata": {
        "id": "TuHYY2pkTRg7"
      }
    },
    {
      "cell_type": "markdown",
      "source": [
        "#**Soal d**\n"
      ],
      "metadata": {
        "id": "Y1qchT7n1Dqi"
      }
    },
    {
      "cell_type": "code",
      "source": [
        "def g(x) :\n",
        "  g4x = (10/(4+x))**(0.5)\n",
        "  return g4x\n",
        "\n",
        "IterasiFixedPoint(x0, epsilon, N)"
      ],
      "metadata": {
        "colab": {
          "base_uri": "https://localhost:8080/"
        },
        "id": "0NzQSKI61IPD",
        "outputId": "e775a24c-8063-4695-9554-1f1fc9f70ef2"
      },
      "execution_count": 25,
      "outputs": [
        {
          "output_type": "stream",
          "name": "stdout",
          "text": [
            "Tebakan Awal (x0) : 1.5\n",
            "Toleransi Error : 0.00001\n",
            "Iterasi Maksimal: 15\n",
            "\n",
            "Dibawah ini adalah Iterasi Fixed Point dari Persamaan diatas adalah :\n",
            "Iteration-1, x1 = 1.348400 dan f(x1) = -0.275637\n",
            "Iteration-2, x1 = 1.367376 dan f(x1) = 0.035481\n",
            "Iteration-3, x1 = 1.364957 dan f(x1) = -0.004508\n",
            "Iteration-4, x1 = 1.365265 dan f(x1) = 0.000574\n",
            "Iteration-5, x1 = 1.365226 dan f(x1) = -0.000073\n",
            "Iteration-6, x1 = 1.365231 dan f(x1) = 0.000009\n",
            "\n",
            "Nilai akar atau solusi uang didapat adalah : 1.36523058\n"
          ]
        }
      ]
    },
    {
      "cell_type": "markdown",
      "source": [
        "**Penjelasan :**\n",
        "\n",
        "\n",
        "1.   Persamaan g4(x)  didapatkan dari hasil manipulasi aljabar sederhana terhadap f(x) = x^3 + 4x^2 - 10 = 0,\n",
        "yaitu:\n",
        "\n",
        "  4x^2 = 10 - x^3\n",
        "\n",
        "  4x^2 + x^3 = 10\n",
        "\n",
        "  x^2 (4 + x) = 10\n",
        "\n",
        "  x = +-[10/(4 + x)]^(1/2)\n",
        "\n",
        "  Dalam kasus ini diambil nilai x yang positif, yaitu: x = [10/(4 + x)]^(1/2) = g4(x)\n",
        "2.   Berdasarkan hasil iterasi diatas, dapat disimpulkan bahwa untuk persamaan g(x) diatas dikatakan konvergen\n",
        "karena menghasilkan solusi akar dari persamaan f(x), yaitu 1.36523058.\n",
        "\n"
      ],
      "metadata": {
        "id": "i7AEbYNvVDmz"
      }
    },
    {
      "cell_type": "markdown",
      "source": [
        "#**Soal e**"
      ],
      "metadata": {
        "id": "DpVyiNMY2leN"
      }
    },
    {
      "cell_type": "code",
      "source": [
        "def g(x):\n",
        "  g5x = x-((x**3+4*x**2-10)/(3*x**2+8*x))\n",
        "  return g5x\n",
        "\n",
        "x0 = float(input('Tebakan Awal (x0) : '))\n",
        "epsilon = float(input('Toleransi Error : '))\n",
        "N = int(input('Iterasi Maksimal: '))\n",
        "\n",
        "IterasiFixedPoint(x0, epsilon, N)"
      ],
      "metadata": {
        "colab": {
          "base_uri": "https://localhost:8080/"
        },
        "id": "k7Q54UVM2prV",
        "outputId": "d91df0f1-1a3c-4a27-f744-3cf09d449eeb"
      },
      "execution_count": 30,
      "outputs": [
        {
          "output_type": "stream",
          "name": "stdout",
          "text": [
            "Tebakan Awal (x0) : 1.5\n",
            "Toleransi Error : 0.00001\n",
            "Iterasi Maksimal: 5\n",
            "\n",
            "Dibawah ini adalah Iterasi Fixed Point dari Persamaan diatas adalah :\n",
            "Iteration-1, x1 = 1.373333 dan f(x1) = 0.134345\n",
            "Iteration-2, x1 = 1.365262 dan f(x1) = 0.000528\n",
            "Iteration-3, x1 = 1.365230 dan f(x1) = 0.000000\n",
            "\n",
            "Nilai akar atau solusi uang didapat adalah : 1.36523001\n"
          ]
        }
      ]
    },
    {
      "cell_type": "markdown",
      "source": [
        "**Penjelasan :**\n",
        "\n",
        "\n",
        "1.   Persamaan g5(x) diatas didapatkan berdasarkan pendefinisian fungsi g dan dari hasil manipulasi aljabar yaitu\n",
        "turunan dari f(x) yang dapat dituliskan: x = x - [f(x)/f'(x)] = x - [(x^3 + 4x^2 - 10) / (3x^2 + 8x)] = g5(x)\n",
        "2.   Berdasarkan hasil iterasi diatas, dapat disimpulkan bahwa untuk persamaan g(x) diatas dikatakan konvergen\n",
        "karena manghasilkan solusi akar dari persamaan f(x), yaitu 1.36523001.\n",
        "\n"
      ],
      "metadata": {
        "id": "e-KZYNhWWD-3"
      }
    },
    {
      "cell_type": "markdown",
      "source": [
        "#**Kesimpulan**\n",
        "beberapa hal yang dapat disimpulkan dari kelima jenis persamaan g(x) diatas yaitu:\n",
        "\n",
        "\n",
        "1. Iterasi fixed point dari persamaan g1(x) = x - x^3 - 4x^2 + 10 dan g2(x) = [(10/x) - 4x]^(1/2) menghasilkan iterasi\n",
        "fixed point yang divergen.\n",
        "2. Iterasi fixed point dari persamaan g3(x) = (1/2) (10 - x^3), g4(x) = [10 / (4 + x)]^(1/2), dan g5(x) = x - [(x^3 + 4x^2 - 10)\n",
        "/ (3x^2 + 8x)] menghasilkan iterasi fixed point yang konvergen karena menghasilkan solusi akar dari persamaan\n",
        "f(x), yaitu 1.36523001. Dari ketiga persamaan g(x) tersebut, perbedaan hanya terletak pada jumlah iterasi yang\n",
        "dibutuhkan untuk mendapatkan solusi akar dari persamaan f(x).\n",
        "\n"
      ],
      "metadata": {
        "id": "XH4cKr43WO3l"
      }
    }
  ]
}